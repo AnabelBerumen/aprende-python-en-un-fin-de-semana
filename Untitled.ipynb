{
 "cells": [
  {
   "cell_type": "code",
   "execution_count": 1,
   "metadata": {},
   "outputs": [
    {
     "name": "stdout",
     "output_type": "stream",
     "text": [
      "introduzca el primer numero35.7\n",
      "introduzca el segundo numero4.56\n",
      "Resultado de la división 7.8\n"
     ]
    }
   ],
   "source": [
    "#2-1-9\n",
    "num1 = float(input(\"introduzca el primer numero\"))\n",
    "num2 = float(input(\"introduzca el segundo numero\"))\n",
    "resultado = round(num1 / num2,1)\n",
    "print(\"Resultado de la división\", resultado)"
   ]
  },
  {
   "cell_type": "code",
   "execution_count": 2,
   "metadata": {},
   "outputs": [
    {
     "name": "stdout",
     "output_type": "stream",
     "text": [
      "Hola\n"
     ]
    }
   ],
   "source": [
    "#2-2-1\n",
    "cadenaEjemplo = (\"Hola\")\n",
    "print(cadenaEjemplo)"
   ]
  },
  {
   "cell_type": "code",
   "execution_count": 3,
   "metadata": {},
   "outputs": [
    {
     "name": "stdout",
     "output_type": "stream",
     "text": [
      "Hola Time of Software\n",
      "Esto es una cadena\n",
      "Multilinea\n"
     ]
    }
   ],
   "source": [
    "#2-2-2\n",
    "cadenaEjemplo = \"Hola Time of Software\\nEsto es una cadena\\nMultilinea\"\n",
    "print(cadenaEjemplo)"
   ]
  },
  {
   "cell_type": "code",
   "execution_count": 4,
   "metadata": {},
   "outputs": [
    {
     "name": "stdout",
     "output_type": "stream",
     "text": [
      "['ordenador', 'teclado', 'raton']\n"
     ]
    }
   ],
   "source": [
    "#2-3-1 LISTAS\n",
    "lista = [\"ordenador\", \"teclado\", \"raton\"]\n",
    "print(lista)"
   ]
  },
  {
   "cell_type": "code",
   "execution_count": 5,
   "metadata": {},
   "outputs": [
    {
     "name": "stdout",
     "output_type": "stream",
     "text": [
      "3\n",
      "ordenador\n",
      "teclado\n",
      "raton\n"
     ]
    }
   ],
   "source": [
    "#2-3-2 LISTAS\n",
    "lista = [\"ordenador\", \"teclado\", \"raton\"]\n",
    "print(len(lista))\n",
    "print(lista[0])\n",
    "print(lista[1])\n",
    "print(lista[2])"
   ]
  },
  {
   "cell_type": "code",
   "execution_count": 6,
   "metadata": {},
   "outputs": [
    {
     "name": "stdout",
     "output_type": "stream",
     "text": [
      "['ordenador', 'teclado', 'raton', 'monitor', 'altavoz', 'altavoces']\n"
     ]
    }
   ],
   "source": [
    "#2-3-3 LISTAS\n",
    "lista1 = [\"ordenador\", \"teclado\", \"raton\"]\n",
    "lista2 = [\"monitor\", \"altavoz\", \"altavoces\"]\n",
    "listafinal =lista1 + lista2\n",
    "print(listafinal)"
   ]
  },
  {
   "cell_type": "code",
   "execution_count": 7,
   "metadata": {},
   "outputs": [
    {
     "name": "stdout",
     "output_type": "stream",
     "text": [
      "['ordenador', 'teclado', 'raton']\n",
      "['ordenador', 'teclado', 'raton', 'mesa']\n"
     ]
    }
   ],
   "source": [
    "#2-3-4 LISTAS\n",
    "lista = [\"ordenador\", \"teclado\", \"raton\"]\n",
    "print(lista)\n",
    "lista = lista + [\"mesa\"]\n",
    "print(lista)"
   ]
  },
  {
   "cell_type": "code",
   "execution_count": 8,
   "metadata": {},
   "outputs": [
    {
     "name": "stdout",
     "output_type": "stream",
     "text": [
      "['ordenador', 'teclado', 'raton']\n",
      "['monitor', 'impresora', 'altavoces']\n"
     ]
    }
   ],
   "source": [
    "#2-3-5 LISTAS\n",
    "lista = [\"ordenador\", \"teclado\", \"raton\"]\n",
    "print(lista)\n",
    "lista[0] = \"monitor\"\n",
    "lista[1] = \"impresora\"\n",
    "lista[2] = \"altavoces\"\n",
    "print(lista)"
   ]
  },
  {
   "cell_type": "code",
   "execution_count": 9,
   "metadata": {},
   "outputs": [
    {
     "name": "stdout",
     "output_type": "stream",
     "text": [
      "['ordenador', 'teclado', 'raton']\n",
      "['ordenador', 'raton']\n"
     ]
    }
   ],
   "source": [
    "#2-3-6 LISTAS\n",
    "lista = [\"ordenador\", \"teclado\", \"raton\"]\n",
    "print(lista)\n",
    "del lista[1]\n",
    "print(lista)"
   ]
  },
  {
   "cell_type": "code",
   "execution_count": 11,
   "metadata": {},
   "outputs": [
    {
     "name": "stdout",
     "output_type": "stream",
     "text": [
      "ordenador\n",
      "raton\n",
      "teclado\n",
      "['tarjeta de sonido', 'microfono', 'altavoces']\n",
      "tarjeta de sonido\n",
      "microfono\n",
      "altavoces\n",
      "['ordenador', 'raton', 'teclado', ['tarjeta de sonido', 'microfono', 'altavoces']]\n"
     ]
    }
   ],
   "source": [
    "#2-3-7 LISTAS\n",
    "lista = [\"ordenador\", \"raton\", \"teclado\",[\"tarjeta de sonido\",\"microfono\", \"altavoces\"]]\n",
    "print(lista[0])\n",
    "print(lista[1])\n",
    "print(lista[2])\n",
    "print(lista[3])\n",
    "print(lista[3][0])\n",
    "print(lista[3][1])\n",
    "print(lista[3][2])\n",
    "print(lista)"
   ]
  },
  {
   "cell_type": "code",
   "execution_count": 12,
   "metadata": {},
   "outputs": [
    {
     "name": "stdout",
     "output_type": "stream",
     "text": [
      "('ordenador', 'teclado', 'raton')\n",
      "3\n",
      "ordenador\n",
      "teclado\n",
      "raton\n"
     ]
    }
   ],
   "source": [
    "#TUPLAS ELEMENTOS ORDENADOS E INMUTABLES\n",
    "#2-3-8 TUPLAS\n",
    "tupla = ('ordenador', 'teclado', 'raton')\n",
    "print(tupla)\n",
    "print(len(tupla))\n",
    "print(tupla[0])\n",
    "print(tupla[1])\n",
    "print(tupla[2])"
   ]
  },
  {
   "cell_type": "code",
   "execution_count": 13,
   "metadata": {},
   "outputs": [
    {
     "name": "stdout",
     "output_type": "stream",
     "text": [
      "November\n",
      "September\n"
     ]
    }
   ],
   "source": [
    "#DICCIONARIOS {CLAVE : VALOR} LAS CLAVES NO SE PUEDEN REPETIR\n",
    "#2-3-9 DICCIONARIO\n",
    "mesestraducidos = {\"Enero\" : \"January\",\n",
    "                   \"Febrero\" : \"February\",\n",
    "                   \"Marzo\" : \"March\",\n",
    "                   \"Abril\" : \"April\",\n",
    "                   \"Mayo\" : \"May\",\n",
    "                   \"Junio\" : \"June\",\n",
    "                   \"Julio\" : \"July\",\n",
    "                   \"Agosto\" : \"August\",\n",
    "                   \"Septiembre\" : \"September\",\n",
    "                   \"Octubre\" : \"October\",\n",
    "                   \"Noviembre\" : \"November\",\n",
    "                   \"Diciembre\" : \"December\"}\n",
    "print(mesestraducidos[\"Noviembre\"])\n",
    "print(mesestraducidos[\"Septiembre\"])\n"
   ]
  },
  {
   "cell_type": "code",
   "execution_count": 14,
   "metadata": {},
   "outputs": [
    {
     "name": "stdout",
     "output_type": "stream",
     "text": [
      "True\n"
     ]
    }
   ],
   "source": [
    "#BOOLEANOS Y OPERADORES LOGICOS\n",
    "#2-4-1\n",
    "variablebooleana = True\n",
    "print(variablebooleana)"
   ]
  },
  {
   "cell_type": "code",
   "execution_count": 15,
   "metadata": {},
   "outputs": [
    {
     "name": "stdout",
     "output_type": "stream",
     "text": [
      "False\n"
     ]
    }
   ],
   "source": [
    "#2-4-2 BOOLEANOS\n",
    "variablebooleana = False\n",
    "print(variablebooleana)"
   ]
  },
  {
   "cell_type": "code",
   "execution_count": 16,
   "metadata": {},
   "outputs": [
    {
     "name": "stdout",
     "output_type": "stream",
     "text": [
      "True\n"
     ]
    }
   ],
   "source": [
    "#OPERADORES LÓGICOS\n",
    "#2-4-3\n",
    "booleano1 = True\n",
    "booleano2 = True\n",
    "print(booleano1 and booleano2)"
   ]
  },
  {
   "cell_type": "code",
   "execution_count": 17,
   "metadata": {},
   "outputs": [
    {
     "name": "stdout",
     "output_type": "stream",
     "text": [
      "False\n"
     ]
    }
   ],
   "source": [
    "#OPERADORES LÓGICOS\n",
    "#2-4-4\n",
    "booleano1 = True\n",
    "booleano2 = False\n",
    "print(booleano1 and booleano2)"
   ]
  },
  {
   "cell_type": "code",
   "execution_count": 18,
   "metadata": {},
   "outputs": [
    {
     "name": "stdout",
     "output_type": "stream",
     "text": [
      "False\n"
     ]
    }
   ],
   "source": [
    "#OPERADORES LÓGICOS  \"\"and\"\n",
    "#2-4-5\n",
    "booleano1 = False\n",
    "booleano2 = False\n",
    "print(booleano1 and booleano2)"
   ]
  },
  {
   "cell_type": "code",
   "execution_count": 19,
   "metadata": {},
   "outputs": [
    {
     "name": "stdout",
     "output_type": "stream",
     "text": [
      "True\n",
      "True\n",
      "False\n"
     ]
    }
   ],
   "source": [
    "#OPERADORES LÓGICOS \"or\"\n",
    "#2-4-6\n",
    "booleano1 = True\n",
    "booleano2 = True\n",
    "print(booleano1 or booleano2)\n",
    "#2-4-7\n",
    "booleano2 = False\n",
    "print(booleano1 or booleano2)\n",
    "#2-4-8\n",
    "booleano1 = False\n",
    "print(booleano1 or booleano2)\n"
   ]
  },
  {
   "cell_type": "code",
   "execution_count": 20,
   "metadata": {},
   "outputs": [
    {
     "name": "stdout",
     "output_type": "stream",
     "text": [
      "True\n",
      "False\n"
     ]
    }
   ],
   "source": [
    "#OPERADORES LÓGICOS \"not\"\n",
    "#2-4-9\n",
    "booleano = False\n",
    "print(not booleano)\n",
    "#2-4-10\n",
    "booleano = True\n",
    "print (not booleano)"
   ]
  },
  {
   "cell_type": "code",
   "execution_count": null,
   "metadata": {},
   "outputs": [],
   "source": [
    "#OPERADORES RELACIONALES\n",
    "#2-4-11\n",
    "num1 = 6\n",
    "num2 = 9\n",
    "print(num1 > num2)\n",
    "print(num1 >= num2)\n",
    "print(num1 < num2)\n",
    "print(num1 <= num2)\n",
    "print(num1 =)"
   ]
  },
  {
   "cell_type": "code",
   "execution_count": 24,
   "metadata": {},
   "outputs": [
    {
     "name": "stdout",
     "output_type": "stream",
     "text": [
      "En un lugar de la mancha...\n",
      "EN UN LUGAR DE LA MANCHA...\n",
      "en un lugar de la mancha...\n"
     ]
    }
   ],
   "source": [
    "#CADENA DE TEXTO AVANZADO  capitalize/upper/lower\n",
    "#2-5-1\n",
    "cadenaejp = \"en un lugar de la mancha...\"\n",
    "print(cadenaejp.capitalize())\n",
    "#2-5-2\n",
    "print(cadenaejp.upper())\n",
    "#2-5-3\n",
    "print(cadenaejp.lower())"
   ]
  },
  {
   "cell_type": "code",
   "execution_count": 26,
   "metadata": {},
   "outputs": [
    {
     "name": "stdout",
     "output_type": "stream",
     "text": [
      "27\n"
     ]
    }
   ],
   "source": [
    "#2-5-4\n",
    "cadenaejp = \"en un lugar de la mancha...\"\n",
    "print(len(cadenaejp))"
   ]
  },
  {
   "cell_type": "code",
   "execution_count": 28,
   "metadata": {},
   "outputs": [
    {
     "name": "stdout",
     "output_type": "stream",
     "text": [
      "False\n",
      "True\n",
      "True\n",
      "False\n"
     ]
    }
   ],
   "source": [
    "#2-5-5  isalnum()\n",
    "cadenaejp = \"en un lugar de la mancha...\"\n",
    "print(cadenaejp.isalnum())\n",
    "cadenaejp = \"1234567890\"\n",
    "print(cadenaejp.isalnum())\n",
    "cadenaejp = \"abcdefg1234567\"\n",
    "print(cadenaejp.isalnum())\n",
    "cadenaejp = \"abcdefg 1234567890\"\n",
    "print(cadenaejp.isalnum())"
   ]
  },
  {
   "cell_type": "code",
   "execution_count": 1,
   "metadata": {},
   "outputs": [
    {
     "name": "stdout",
     "output_type": "stream",
     "text": [
      "True\n",
      "False\n",
      "False\n",
      "False\n"
     ]
    }
   ],
   "source": [
    "#isalpha\n",
    "cadenaEjemplo = \"Enunlugardelamancha\"\n",
    "print(cadenaEjemplo.isalpha())\n",
    "cadenaEjemplo = \"En un lugar de la mancha\"\n",
    "print(cadenaEjemplo.isalpha())\n",
    "cadenaEjemplo = \"1234567890\"\n",
    "print(cadenaEjemplo.isalpha())\n",
    "cadenaEjemplo = \"ancdefg 1234567890\"\n",
    "print(cadenaEjemplo.isalpha())\n"
   ]
  },
  {
   "cell_type": "code",
   "execution_count": 2,
   "metadata": {},
   "outputs": [
    {
     "name": "stdout",
     "output_type": "stream",
     "text": [
      "False\n",
      "True\n",
      "False\n"
     ]
    }
   ],
   "source": [
    "#isdigit\n",
    "cadenaEjemplo = \"En un lugar de la mancha\"\n",
    "print(cadenaEjemplo.isdigit())\n",
    "cadenaEjemplo = \"1234567890\"\n",
    "print(cadenaEjemplo.isdigit())\n",
    "cadenaEjemplo = \"12345678890 abcdefghi\"\n",
    "print(cadenaEjemplo.isdigit())"
   ]
  },
  {
   "cell_type": "code",
   "execution_count": 3,
   "metadata": {},
   "outputs": [
    {
     "name": "stdout",
     "output_type": "stream",
     "text": [
      "False\n",
      "True\n"
     ]
    }
   ],
   "source": [
    "#islower\n",
    "cadenaEjemplo = \"En un lugar de la mancha\"\n",
    "print (cadenaEjemplo.islower())\n",
    "cadenaEjemplo = \"en un lugar de la mancha\"\n",
    "print(cadenaEjemplo.islower())"
   ]
  },
  {
   "cell_type": "code",
   "execution_count": 4,
   "metadata": {},
   "outputs": [
    {
     "name": "stdout",
     "output_type": "stream",
     "text": [
      "En un lugar de la mancha\n",
      "En un lugar de la mancha\n",
      "En un lugar de la mancha\n"
     ]
    }
   ],
   "source": [
    "#lstrip rstrip strip\n",
    "cadenaEjemplo = \" En un lugar de la mancha\"\n",
    "print(cadenaEjemplo.lstrip())\n",
    "cadenaEjemplo = \"En un lugar de la mancha \"\n",
    "print(cadenaEjemplo.rstrip())\n",
    "cadenaEjemplo = \" En un lugar de la mancha \"\n",
    "print(cadenaEjemplo.strip())"
   ]
  },
  {
   "cell_type": "code",
   "execution_count": 6,
   "metadata": {},
   "outputs": [
    {
     "name": "stdout",
     "output_type": "stream",
     "text": [
      "z\n",
      "a\n"
     ]
    }
   ],
   "source": [
    "# max min (determina el mayo o menor caracter alfanumerico en la cadena\n",
    "cadenaEjemplo = \"zbcdexyza\"\n",
    "print(max(cadenaEjemplo))\n",
    "print(min(cadenaEjemplo))"
   ]
  },
  {
   "cell_type": "code",
   "execution_count": 7,
   "metadata": {},
   "outputs": [
    {
     "name": "stdout",
     "output_type": "stream",
     "text": [
      "EEIOU\n"
     ]
    }
   ],
   "source": [
    "#replace\n",
    "cadenaEjemplo = \"AEIOU\"\n",
    "print(cadenaEjemplo.replace('A','E'))"
   ]
  },
  {
   "cell_type": "code",
   "execution_count": 9,
   "metadata": {},
   "outputs": [
    {
     "name": "stdout",
     "output_type": "stream",
     "text": [
      "eN UN LUGAR DE LA MANCHA\n"
     ]
    }
   ],
   "source": [
    "#swapcase\n",
    "cadenaEjemplo =\"En un lugar de la mancha\"\n",
    "print(cadenaEjemplo.swapcase())"
   ]
  },
  {
   "cell_type": "code",
   "execution_count": 12,
   "metadata": {},
   "outputs": [
    {
     "name": "stdout",
     "output_type": "stream",
     "text": [
      "['En', 'un', 'lugar', 'de', 'la', 'mancha']\n",
      "['31', '12', '2021']\n"
     ]
    }
   ],
   "source": [
    "#split\n",
    "cadenaEjemplo = \" En un lugar de la mancha\"\n",
    "print(cadenaEjemplo.split())\n",
    "\n",
    "cadenaEjemplo = \"31/12/2021\"\n",
    "print(cadenaEjemplo.split(\"/\"))"
   ]
  },
  {
   "cell_type": "code",
   "execution_count": 15,
   "metadata": {},
   "outputs": [
    {
     "name": "stdout",
     "output_type": "stream",
     "text": [
      "ingrese un numero del 1 al 102\n",
      "el numero ingresao fue 2\n"
     ]
    }
   ],
   "source": [
    "num = int(input(\"ingrese un numero del 1 al 10\"))\n",
    "if num > 10:\n",
    "    print (\"El numero ingresado es mayor a 10!\")\n",
    "print(\"el numero ingresao fue \" + str(num))"
   ]
  },
  {
   "cell_type": "code",
   "execution_count": 16,
   "metadata": {},
   "outputs": [
    {
     "name": "stdout",
     "output_type": "stream",
     "text": [
      "Encontrado\n"
     ]
    }
   ],
   "source": [
    "cadenaEjemplo = \"En un lugar de la mancha\"\n",
    "if \"lugar \" in cadenaEjemplo:\n",
    "    print (\"Encontrado\")\n",
    "else:\n",
    "    print(\"No encontrado\")"
   ]
  },
  {
   "cell_type": "code",
   "execution_count": 24,
   "metadata": {},
   "outputs": [
    {
     "name": "stdout",
     "output_type": "stream",
     "text": [
      "Empieza con E!\n",
      "No empieza con p\n"
     ]
    }
   ],
   "source": [
    "#startswith endswith\n",
    "cadenaEjemplo = \"En un lugar de la mancha\"\n",
    "if cadenaEjemplo.startswith('E'):\n",
    "        print(\"Empieza con E!\")\n",
    "else:\n",
    "        print(\"No empieza con E\")\n",
    "if cadenaEjemplo.endswith('p'):\n",
    "        print(\"Empieza con p\")\n",
    "else:\n",
    "        print(\"No empieza con p\")"
   ]
  },
  {
   "cell_type": "code",
   "execution_count": 26,
   "metadata": {},
   "outputs": [
    {
     "name": "stdout",
     "output_type": "stream",
     "text": [
      "Ingresa el primer numero5\n",
      "Ingresa el segundo numero4\n",
      "Numero primero es mayor\n"
     ]
    }
   ],
   "source": [
    "num1 = int(input(\"Ingresa el primer numero\"))\n",
    "num2 = int(input(\"Ingresa el segundo numero\"))\n",
    "\n",
    "if num1 > num2:\n",
    "    print(\"Numero primero es mayor\")\n",
    "elif num1 == num2:\n",
    "    print(\"Son iguales\")\n",
    "else:\n",
    "    print(\"Numero segundo es mayor\")"
   ]
  },
  {
   "cell_type": "code",
   "execution_count": 28,
   "metadata": {},
   "outputs": [
    {
     "name": "stdout",
     "output_type": "stream",
     "text": [
      "0 1 2 3 4 5 6 7 8 9 "
     ]
    }
   ],
   "source": [
    "i = 0\n",
    "while i < 10:\n",
    "    print(i, end = \" \")\n",
    "    i = i+1"
   ]
  },
  {
   "cell_type": "code",
   "execution_count": 29,
   "metadata": {},
   "outputs": [
    {
     "name": "stdout",
     "output_type": "stream",
     "text": [
      "Introduce ub ebtero superior a 10020\n",
      "Introduce ub ebtero superior a 1001\n",
      "Introduce ub ebtero superior a 100200\n",
      "Programa acabado\n"
     ]
    }
   ],
   "source": [
    "continuar = True\n",
    "while continuar:\n",
    "    valor = int(input(\"Introduce ub ebtero superior a 100\"))\n",
    "    if valor >100:\n",
    "        continuar = False\n",
    "print(\"Programa acabado\")"
   ]
  },
  {
   "cell_type": "code",
   "execution_count": 31,
   "metadata": {},
   "outputs": [
    {
     "name": "stdout",
     "output_type": "stream",
     "text": [
      "1 2 3 4 5 6 7 8 9 "
     ]
    }
   ],
   "source": [
    "lista = [1,2,3,4,5,6,7,8,9]\n",
    "for item in lista:\n",
    "    print(item, end = \" \")"
   ]
  },
  {
   "cell_type": "code",
   "execution_count": 32,
   "metadata": {},
   "outputs": [
    {
     "name": "stdout",
     "output_type": "stream",
     "text": [
      "ordenador teclado raton "
     ]
    }
   ],
   "source": [
    "lista = [\"ordenador\", \"teclado\", \"raton\"]\n",
    "for item in lista:\n",
    "    print(item, end=\" \")"
   ]
  },
  {
   "cell_type": "code",
   "execution_count": 33,
   "metadata": {},
   "outputs": [
    {
     "name": "stdout",
     "output_type": "stream",
     "text": [
      "0 1 2 3 4 5 6 7 8 9 "
     ]
    }
   ],
   "source": [
    "for item in range(10):\n",
    "    print(item, end=\" \")"
   ]
  },
  {
   "cell_type": "code",
   "execution_count": 35,
   "metadata": {},
   "outputs": [
    {
     "name": "stdout",
     "output_type": "stream",
     "text": [
      "item1 =0 item2 =0\n",
      "item1 =0 item2 =1\n",
      "item1 =0 item2 =2\n",
      "item1 =0 item2 =3\n",
      "item1 =0 item2 =4\n",
      "item1 =1 item2 =0\n",
      "item1 =1 item2 =1\n",
      "item1 =1 item2 =2\n",
      "item1 =1 item2 =3\n",
      "item1 =1 item2 =4\n",
      "item1 =2 item2 =0\n",
      "item1 =2 item2 =1\n",
      "item1 =2 item2 =2\n",
      "item1 =2 item2 =3\n",
      "item1 =2 item2 =4\n"
     ]
    }
   ],
   "source": [
    "for item1 in range(3):\n",
    "    for item2 in range(5):\n",
    "        print(\"item1 =\" + str(item1)+\" item2 =\" + str(item2))"
   ]
  },
  {
   "cell_type": "code",
   "execution_count": 37,
   "metadata": {},
   "outputs": [
    {
     "name": "stdout",
     "output_type": "stream",
     "text": [
      "item1= 0,item2= 0\n",
      "item1= 0,item2= 1\n",
      "item1= 0,item2= 2\n",
      "item1= 0,item2= 3\n",
      "item1= 0,item2= 4\n",
      "item1= 1,item2= 0\n",
      "item1= 1,item2= 1\n",
      "item1= 1,item2= 2\n",
      "item1= 1,item2= 3\n",
      "item1= 1,item2= 4\n",
      "item1= 2,item2= 0\n",
      "item1= 2,item2= 1\n",
      "item1= 2,item2= 2\n",
      "item1= 2,item2= 3\n",
      "item1= 2,item2= 4\n"
     ]
    }
   ],
   "source": [
    "item1 = 0\n",
    "while item1 < 3:\n",
    "    for item2 in range(5):\n",
    "        print(\"item1= \" + str(item1) + \",item2= \" + str(item2))\n",
    "    item1 = item1 + 1"
   ]
  },
  {
   "cell_type": "code",
   "execution_count": 39,
   "metadata": {},
   "outputs": [
    {
     "name": "stdout",
     "output_type": "stream",
     "text": [
      "item1 = 0,item2 = 0\n",
      "item1 = 0,item2 = 1\n",
      "item1 = 0,item2 = 2\n",
      "item1 = 0,item2 = 3\n",
      "item1 = 0,item2 = 4\n",
      "item1 = 1,item2 = 0\n",
      "item1 = 1,item2 = 1\n",
      "item1 = 1,item2 = 2\n",
      "item1 = 1,item2 = 3\n",
      "item1 = 1,item2 = 4\n",
      "item1 = 2,item2 = 0\n",
      "item1 = 2,item2 = 1\n",
      "item1 = 2,item2 = 2\n",
      "item1 = 2,item2 = 3\n",
      "item1 = 2,item2 = 4\n"
     ]
    }
   ],
   "source": [
    "item1 = 0\n",
    "while item1 <3:\n",
    "    item2 = 0\n",
    "    while item2 < 5:\n",
    "        print(\"item1 = \" + str(item1)+ \",item2 = \" + str(item2))\n",
    "        item2 = item2 + 1\n",
    "    item1 = item1 +1"
   ]
  },
  {
   "cell_type": "code",
   "execution_count": 42,
   "metadata": {},
   "outputs": [
    {
     "name": "stdout",
     "output_type": "stream",
     "text": [
      "************\n",
      "Calculadora\n",
      "************\n",
      "\n",
      "Menu\n",
      "1) Suma\n",
      "2) Resta\n",
      "3) Multiplicación\n",
      "4) División\n",
      "5) Salir\n",
      "Opción5\n",
      "Finalizando\n"
     ]
    }
   ],
   "source": [
    "fin = False\n",
    "print(\"\"\"************\n",
    "Calculadora\n",
    "************\n",
    "\n",
    "Menu\n",
    "1) Suma\n",
    "2) Resta\n",
    "3) Multiplicación\n",
    "4) División\n",
    "5) Salir\"\"\")\n",
    "\n",
    "while not(fin):\n",
    "    opc = int(input(\"Opción\"))\n",
    "    if (opc == 1 ):\n",
    "        sum1 = int(input(\"Sumando uno: \"))\n",
    "        sum2 = int(input(\"Sumando dos: \"))\n",
    "        print(\"La suma es: \", sum1 + sum2 )\n",
    "    elif (opc == 2):\n",
    "        rest1 = int(input(\"Minuendo: \"))\n",
    "        rest2 = int(input(\"Sustraendo: \"))\n",
    "        print(\"La resta es: \", rest1 - rest2)\n",
    "    elif (opc == 3):\n",
    "        mult1 = int(input(\"Multiplicando: \"))\n",
    "        mult2 = int(input(\"Multiplicador: \"))\n",
    "        print(\"La multiplicación es: \", mult1 * mult2)\n",
    "    elif (opc == 4):\n",
    "        div1 = int(input(\"Dividendo: \"))\n",
    "        div2 = int(input(\"Divisor: \"))\n",
    "        print(\"La división es: \", div1 / div2)\n",
    "    elif(opc == 5):\n",
    "        fin = True\n",
    "        print(\"Finalizando\")"
   ]
  },
  {
   "cell_type": "code",
   "execution_count": 43,
   "metadata": {},
   "outputs": [
    {
     "name": "stdout",
     "output_type": "stream",
     "text": [
      "Hola time of code\n"
     ]
    }
   ],
   "source": [
    "def saludar():\n",
    "    print(\"Hola time of code\")\n",
    "\n",
    "saludar()"
   ]
  },
  {
   "cell_type": "code",
   "execution_count": 48,
   "metadata": {},
   "outputs": [
    {
     "name": "stdout",
     "output_type": "stream",
     "text": [
      "ingresa un numero -9\n",
      "-9  no es mayor que 0\n"
     ]
    }
   ],
   "source": [
    "def esMayorQueCero(num):\n",
    "    if num > 0:\n",
    "        print(num,\" es mayor que 0\")\n",
    "    else:\n",
    "        print(num,\" no es mayor que 0\")\n",
    "\n",
    "num = int(input(\"ingresa un numero \"))\n",
    "\n",
    "esMayorQueCero(num)"
   ]
  },
  {
   "cell_type": "code",
   "execution_count": 50,
   "metadata": {},
   "outputs": [
    {
     "name": "stdout",
     "output_type": "stream",
     "text": [
      "Ingresa el primer numero 2\n",
      "Ingresa el segundo numero 7\n",
      "9\n"
     ]
    }
   ],
   "source": [
    "def sumar(num1 , num2):\n",
    "    return num1 + num2\n",
    "\n",
    "sum1 = int(input(\"Ingresa el primer numero \"))\n",
    "sum2 = int(input(\"Ingresa el segundo numero \"))\n",
    "\n",
    "print(sumar(sum1,sum2))"
   ]
  },
  {
   "cell_type": "code",
   "execution_count": 52,
   "metadata": {},
   "outputs": [
    {
     "name": "stdout",
     "output_type": "stream",
     "text": [
      "Introduce el primer numero 9\n",
      "Intruduce el segundo numero 5\n",
      "El resultado de la suma es:  14\n",
      "El resultado de la resta es:  4\n"
     ]
    }
   ],
   "source": [
    "def sumarRestar(num1 , num2):\n",
    "    return num1 + num2, num1 - num2\n",
    "\n",
    "num1 = int(input(\"Introduce el primer numero \"))\n",
    "num2 = int(input(\"Intruduce el segundo numero \"))\n",
    "\n",
    "suma, resta = sumarRestar(num1,num2)\n",
    "\n",
    "print(\"El resultado de la suma es: \", suma)\n",
    "print(\"El resultado de la resta es: \", resta)"
   ]
  },
  {
   "cell_type": "code",
   "execution_count": 54,
   "metadata": {},
   "outputs": [
    {
     "name": "stdout",
     "output_type": "stream",
     "text": [
      "El resultado es:  704\n"
     ]
    }
   ],
   "source": [
    "def Sumar(*valores):\n",
    "    resultado = 0\n",
    "    for item in valores:\n",
    "        resultado = resultado + item\n",
    "    return resultado\n",
    "\n",
    "resultado = Sumar(23,56,3,89,78,455)\n",
    "print(\"El resultado es: \", resultado)"
   ]
  },
  {
   "cell_type": "code",
   "execution_count": 56,
   "metadata": {},
   "outputs": [
    {
     "name": "stdout",
     "output_type": "stream",
     "text": [
      "Ingresa el primer numero: 9\n",
      "Ingresa el segundo numero: 6\n",
      "El resultado de la suma es:  15\n",
      "El resultado de la resta es:  3\n"
     ]
    }
   ],
   "source": [
    "def SumarRestar(num1, num2):\n",
    "    return Sumar(num1, num2), Restar(num1,num2)\n",
    "\n",
    "def Sumar(sum1, sum2):\n",
    "    return sum1 + sum2\n",
    "\n",
    "def Restar(minu, sust):\n",
    "    return minu - sust\n",
    "\n",
    "num1 = int(input(\"Ingresa el primer numero: \"))\n",
    "num2 = int(input(\"Ingresa el segundo numero: \"))\n",
    "\n",
    "resuSuma, resuResta = SumarRestar(num1,num2)\n",
    "\n",
    "print(\"El resultado de la suma es: \", resuSuma)\n",
    "print(\"El resultado de la resta es: \", resuResta)"
   ]
  },
  {
   "cell_type": "code",
   "execution_count": 59,
   "metadata": {},
   "outputs": [
    {
     "name": "stdout",
     "output_type": "stream",
     "text": [
      "El punto es( 4 , 6 )\n"
     ]
    }
   ],
   "source": [
    "class Punto:\n",
    "    def __init__(self,x,y):\n",
    "        self.X = x\n",
    "        self.Y = y\n",
    "    \n",
    "    def MostrarPunto(self):\n",
    "        print(\"El punto es(\",self.X,\",\",self.Y,\")\")\n",
    "    \n",
    "pl = Punto(4,6)\n",
    "pl.MostrarPunto()"
   ]
  },
  {
   "cell_type": "code",
   "execution_count": null,
   "metadata": {},
   "outputs": [],
   "source": [
    "#isalpha\n",
    "cadenaEjemplo = \"Enunlugardelamancha\"\n",
    "print(cadenaEjemplo.isalpha())\n",
    "cadenaEjemplo = \"En un lugar de la mancha\"\n",
    "print(cadenaEjemplo.isalpha())\n",
    "cadenaEjemplo = \"1234567890\"\n",
    "print(cadenaEjemplo.isalpha())\n",
    "cadenaEjemplo = \"ancdefg 1234567890\"\n",
    "print(cadenaEjemplo.isalpha())\n"
   ]
  },
  {
   "cell_type": "code",
   "execution_count": 38,
   "metadata": {},
   "outputs": [
    {
     "name": "stdout",
     "output_type": "stream",
     "text": [
      "['python', 'UOC']\n"
     ]
    }
   ],
   "source": [
    "lista = [10, 'python', 3, 'UOC', True]\n",
    "s = []\n",
    "\n",
    "for x in lista:\n",
    "   if isinstance(x, str):\n",
    "       s.append(x)\n",
    "\n",
    "print(s)\n",
    "  \n"
   ]
  },
  {
   "cell_type": "code",
   "execution_count": 2,
   "metadata": {},
   "outputs": [
    {
     "name": "stdout",
     "output_type": "stream",
     "text": [
      "El punto es( 4 , 6 )\n",
      "El punto es( -5 , 9 )\n",
      "El punto es( 3 , -7 )\n",
      "El punto es( 0 , 4 )\n"
     ]
    }
   ],
   "source": [
    "class Punto:\n",
    "    def __init__(self, x,y):\n",
    "        self.X = x\n",
    "        self.Y = y\n",
    "    def MostrarPunto(self):\n",
    "        print(\"El punto es(\",self.X,\",\",self.Y,\")\")\n",
    "\n",
    "p1 = Punto(4,6)\n",
    "p2 = Punto(-5,9)\n",
    "p3 = Punto(3,-7)\n",
    "p4 = Punto(0,4)\n",
    "\n",
    "p1.MostrarPunto()\n",
    "p2.MostrarPunto()\n",
    "p3.MostrarPunto()\n",
    "p4.MostrarPunto()"
   ]
  },
  {
   "cell_type": "code",
   "execution_count": 5,
   "metadata": {},
   "outputs": [
    {
     "name": "stdout",
     "output_type": "stream",
     "text": [
      "El punto es( 4 , 6 )\n",
      "El punto es( 7 , 6 )\n"
     ]
    }
   ],
   "source": [
    "class Punto:\n",
    "    def __init__(self,x,y):\n",
    "        self.X = x\n",
    "        self.Y = y\n",
    "    \n",
    "    def MostrarPunto(self):\n",
    "        print(\"El punto es(\",self.X,\",\",self.Y,\")\")\n",
    "\n",
    "pl= Punto(4,6)\n",
    "pl.MostrarPunto()\n",
    "pl.X = 7\n",
    "pl.MostrarPunto()"
   ]
  },
  {
   "cell_type": "code",
   "execution_count": 7,
   "metadata": {},
   "outputs": [
    {
     "name": "stdout",
     "output_type": "stream",
     "text": [
      "El punto es ( 4 , 6 )\n",
      "El punto es ( 3 , 8 )\n",
      "El punto es ( 3 , 8 )\n"
     ]
    }
   ],
   "source": [
    "class Punto:\n",
    "    def __init__(self,x,y):\n",
    "        self.X = x\n",
    "        self.Y = y\n",
    "    \n",
    "    def MostrarPunto(self):\n",
    "        print(\"El punto es (\",self.X,\",\",self.Y,\")\")\n",
    "p1 = Punto(4,6)\n",
    "p1.MostrarPunto()\n",
    "p2 = Punto(3,8)\n",
    "p2.MostrarPunto()\n",
    "p1 = p2\n",
    "p1.MostrarPunto()"
   ]
  },
  {
   "cell_type": "code",
   "execution_count": 8,
   "metadata": {},
   "outputs": [
    {
     "name": "stdout",
     "output_type": "stream",
     "text": [
      "El punto es ( 3 , 4 )\n",
      "El punto es ( 6 , 8 )\n",
      "El punto es ( 9 , 2 )\n"
     ]
    }
   ],
   "source": [
    "class Punto:\n",
    "    def __init__(self,x,y):\n",
    "        self.X = x\n",
    "        self.Y = y\n",
    "    \n",
    "    def MostrarPunto(self):\n",
    "        print(\"El punto es (\",self.X,\",\",self.Y,\")\")\n",
    "    \n",
    "class Triangulo:\n",
    "    def __init__(self,v1,v2,v3):\n",
    "        self.V1 = v1\n",
    "        self.V2 = v2\n",
    "        self.V3 = v3\n",
    "    \n",
    "    def MostrarVertices(self):\n",
    "        self.V1.MostrarPunto()\n",
    "        self.V2.MostrarPunto()\n",
    "        self.V3.MostrarPunto()\n",
    "\n",
    "v1 = Punto(3,4)\n",
    "v2 = Punto(6,8)\n",
    "v3 = Punto(9,2)\n",
    "triangulo = Triangulo(v1,v2,v3)\n",
    "triangulo.MostrarVertices()"
   ]
  },
  {
   "cell_type": "code",
   "execution_count": 10,
   "metadata": {},
   "outputs": [
    {
     "name": "stdout",
     "output_type": "stream",
     "text": [
      "Valores punto publico:  4 , 6\n",
      "Valores punto privado:  7 , 3\n",
      "Valores punto publico:  2 , 6\n",
      "Valores punto privado:  9 , 3\n"
     ]
    }
   ],
   "source": [
    "class PuntoPublico:\n",
    "    def __init__(self,x,y):\n",
    "        self.X = x\n",
    "        self.Y = y\n",
    "\n",
    "class PuntoPrivado:\n",
    "    def __init__(self,x,y):\n",
    "        self.__X = x\n",
    "        self.__Y = y\n",
    "    \n",
    "    def GetX(self):\n",
    "        return self.__X\n",
    "    def GetY(self):\n",
    "        return self.__Y\n",
    "    def SetX(self,x):\n",
    "        self.__X = x\n",
    "    def SetY(self,y):\n",
    "        self.__Y = y\n",
    "    \n",
    "publico = PuntoPublico(4,6)\n",
    "privado = PuntoPrivado(7,3)\n",
    "print (\"Valores punto publico: \", publico.X,\",\",publico.Y)\n",
    "print (\"Valores punto privado: \", privado.GetX(),\",\",privado.GetY())\n",
    "publico.X = 2\n",
    "privado.SetX(9)\n",
    "print (\"Valores punto publico: \", publico.X,\",\",publico.Y)\n",
    "print (\"Valores punto privado: \", privado.GetX(),\",\",privado.GetY())\n",
    "\n"
   ]
  },
  {
   "cell_type": "code",
   "execution_count": 13,
   "metadata": {},
   "outputs": [
    {
     "name": "stdout",
     "output_type": "stream",
     "text": [
      "El resultado de la suma es:  15\n",
      "El resultado de la resta es:  3\n"
     ]
    }
   ],
   "source": [
    "class OperarValores:\n",
    "    def __init__ (self,v1,v2):\n",
    "        self.__V1 = v1\n",
    "        self.__V2 = v2\n",
    "    def __Sumar(self):\n",
    "        return self.__V1 + self.__V2\n",
    "    def __Restar(self):\n",
    "        return self.__V1 - self.__V2\n",
    "    \n",
    "    def Operar(self):\n",
    "        print(\"El resultado de la suma es: \", self.__Sumar())\n",
    "        print(\"El resultado de la resta es: \", self.__Restar())\n",
    "    \n",
    "operarvalores = OperarValores(9,6)\n",
    "operarvalores.Operar()"
   ]
  },
  {
   "cell_type": "code",
   "execution_count": 15,
   "metadata": {},
   "outputs": [
    {
     "name": "stdout",
     "output_type": "stream",
     "text": [
      "El resultado de la suma es:  12\n",
      "El resultado de la resta es:  6\n"
     ]
    },
    {
     "ename": "AttributeError",
     "evalue": "'OperarValores' object has no attribute '__Sumar'",
     "output_type": "error",
     "traceback": [
      "\u001b[1;31m---------------------------------------------------------------------------\u001b[0m",
      "\u001b[1;31mAttributeError\u001b[0m                            Traceback (most recent call last)",
      "\u001b[1;32m<ipython-input-15-86ed7dbe4d75>\u001b[0m in \u001b[0;36m<module>\u001b[1;34m\u001b[0m\n\u001b[0;32m     12\u001b[0m \u001b[0moperarvalores\u001b[0m \u001b[1;33m=\u001b[0m \u001b[0mOperarValores\u001b[0m\u001b[1;33m(\u001b[0m\u001b[1;36m9\u001b[0m\u001b[1;33m,\u001b[0m\u001b[1;36m3\u001b[0m\u001b[1;33m)\u001b[0m\u001b[1;33m\u001b[0m\u001b[1;33m\u001b[0m\u001b[0m\n\u001b[0;32m     13\u001b[0m \u001b[0moperarvalores\u001b[0m\u001b[1;33m.\u001b[0m\u001b[0mOperar\u001b[0m\u001b[1;33m(\u001b[0m\u001b[1;33m)\u001b[0m\u001b[1;33m\u001b[0m\u001b[1;33m\u001b[0m\u001b[0m\n\u001b[1;32m---> 14\u001b[1;33m \u001b[0mprint\u001b[0m\u001b[1;33m(\u001b[0m\u001b[1;34m\"El resultado de la sumaes: \"\u001b[0m\u001b[1;33m,\u001b[0m \u001b[0moperarvalores\u001b[0m\u001b[1;33m.\u001b[0m\u001b[0m__Sumar\u001b[0m\u001b[1;33m(\u001b[0m\u001b[1;33m)\u001b[0m\u001b[1;33m)\u001b[0m\u001b[1;33m\u001b[0m\u001b[1;33m\u001b[0m\u001b[0m\n\u001b[0m",
      "\u001b[1;31mAttributeError\u001b[0m: 'OperarValores' object has no attribute '__Sumar'"
     ]
    }
   ],
   "source": [
    "class OperarValores:\n",
    "    def __init__(self,v1,v2):\n",
    "        self.__V1 = v1\n",
    "        self.__V2 = v2\n",
    "    def __Sumar(self):\n",
    "        return self.__V1 + self.__V2\n",
    "    def __Restar(self):\n",
    "        return self.__V1 - self.__V2\n",
    "    def Operar(self):\n",
    "        print(\"El resultado de la suma es: \", self.__Sumar())\n",
    "        print(\"El resultado de la resta es: \", self.__Restar())\n",
    "operarvalores = OperarValores(9,3)\n",
    "operarvalores.Operar()\n",
    "print(\"El resultado de la sumaes: \", operarvalores.__Sumar())"
   ]
  },
  {
   "cell_type": "code",
   "execution_count": 2,
   "metadata": {},
   "outputs": [
    {
     "name": "stdout",
     "output_type": "stream",
     "text": [
      "#########\n",
      "Lavadora:\n",
      "\tRPM: 1200\n",
      "\\Kilos 0\n",
      "\tTensión 220\n",
      "\t¡Lavadora encendida!\n",
      "#########\n"
     ]
    }
   ],
   "source": [
    "class Electrodomestico:\n",
    "    def __init__(self):\n",
    "        self.__Encendido = False\n",
    "        self.__Tension = 0\n",
    "    def Encender(self):\n",
    "        self.__Encendido = True\n",
    "    def Apagar(self):\n",
    "        self.__Encendido = False\n",
    "    def Encendido(self):\n",
    "        return self.__Encendido\n",
    "    def SetTension(self,tension):\n",
    "        self.__Tension = tension\n",
    "    def GetTension(self):\n",
    "        return self.__Tension\n",
    "    \n",
    "class Lavadora(Electrodomestico):\n",
    "    def __init__(self):\n",
    "        self.__RPM = 0\n",
    "        self.__Kilos = 0\n",
    "    def SetRPM(self, rpm):\n",
    "        self.__RPM = rpm\n",
    "    def SetKilos(self, kilos):\n",
    "        self.__KILOS = kilos\n",
    "    def MostarLavadora(self):\n",
    "        print(\"#########\")\n",
    "        print(\"Lavadora:\")\n",
    "        print(\"\\tRPM:\",self.__RPM)\n",
    "        print(\"\\Kilos\",self.__Kilos)\n",
    "        print(\"\\tTensión\",self.GetTension())\n",
    "        if self.Encendido():\n",
    "            print(\"\\t¡Lavadora encendida!\")\n",
    "        else:\n",
    "            print(\"\\tLavadora no encendida.\")\n",
    "        print(\"#########\")\n",
    "    \n",
    "lavadora = Lavadora()\n",
    "lavadora.SetRPM(1200)\n",
    "lavadora.SetKilos(7)\n",
    "lavadora.SetTension(220)\n",
    "lavadora.Encender()\n",
    "lavadora.MostarLavadora()"
   ]
  },
  {
   "cell_type": "code",
   "execution_count": 11,
   "metadata": {},
   "outputs": [
    {
     "name": "stdout",
     "output_type": "stream",
     "text": [
      "#########\n",
      "Lavadora\n",
      "\tRPM: 1200\n",
      "\tKilos: 7\n",
      "\tTensión: 220\n",
      "\tLa lavadora esta encendida\n",
      "#########\n",
      "#########\n",
      "Microondas:\n",
      "\tPotencia maxima: 800\n",
      "\tGrill: Si\n",
      "\tTensión: 220\n",
      "\tMicroondas no encendida\n",
      "#########\n"
     ]
    }
   ],
   "source": [
    "class Electrodomestico:\n",
    "    def __init__(self):\n",
    "        self.__Encendido = False\n",
    "        self.__Tension = 0\n",
    "    \n",
    "    def Encender(self):\n",
    "        self.__Encendido = True\n",
    "    \n",
    "    def Apagar(self):\n",
    "        self.__Encendido = False\n",
    "    \n",
    "    def Encendido(self):\n",
    "        return self.__Encendido\n",
    "    \n",
    "    def SetTension (self,tension):\n",
    "        self.__Tension = tension\n",
    "    \n",
    "    def GetTension (self):\n",
    "        return self.__Tension\n",
    "    \n",
    "class Lavadora(Electrodomestico):\n",
    "    def __init__(self):\n",
    "        self.__RPM = 0\n",
    "        self.__Kilos = 0\n",
    "    \n",
    "    def SetRPM(self,rpm):\n",
    "        self.__RPM = rpm\n",
    "    \n",
    "    def SetKilos (self,kilos):\n",
    "        self.__Kilos = kilos\n",
    "    \n",
    "    def MostarLavadora(self):\n",
    "        print(\"#########\")\n",
    "        print(\"Lavadora\")\n",
    "        print(\"\\tRPM:\",self.__RPM)\n",
    "        print(\"\\tKilos:\",self.__Kilos)\n",
    "        print(\"\\tTensión:\",self.GetTension())\n",
    "        if self.Encendido():\n",
    "            print(\"\\tLa lavadora esta encendida\")\n",
    "        else:\n",
    "            print(\"\\tLa lavadora no esta encencida\")\n",
    "        print(\"#########\")\n",
    "\n",
    "class Microondas(Electrodomestico):\n",
    "    def __init__(self):\n",
    "        self.__PotenciaMaxima = 0\n",
    "        self.__Grill = False\n",
    "    \n",
    "    def SetPotenciaMaxima(self,potencia):\n",
    "        self.__PotenciaMaxima = potencia\n",
    "    \n",
    "    def SetGrill (self,grill):\n",
    "        self.__Grill = grill\n",
    "    \n",
    "    def MostrarMicroondas(self):\n",
    "        print(\"#########\")\n",
    "        print(\"Microondas:\")\n",
    "        print(\"\\tPotencia maxima:\", self.__PotenciaMaxima)\n",
    "        if self.__Grill == True:\n",
    "            print(\"\\tGrill: Si\")\n",
    "        else:\n",
    "            print(\"\\tGrill: No\")\n",
    "        print(\"\\tTensión:\",self.GetTension())\n",
    "        if self.Encendido():\n",
    "            print(\"\\tMicroondas encendida\")\n",
    "        else:\n",
    "            print(\"\\tMicroondas no encendida\")\n",
    "        print(\"#########\")\n",
    "    \n",
    "lavadora = Lavadora()\n",
    "lavadora.SetRPM(1200)\n",
    "lavadora.SetKilos(7)\n",
    "lavadora.SetTension(220)\n",
    "lavadora.Encender()\n",
    "microondas = Microondas()\n",
    "microondas.SetPotenciaMaxima(800)\n",
    "microondas.SetGrill(True)\n",
    "microondas.SetTension(220)\n",
    "microondas.Apagar()\n",
    "lavadora.MostarLavadora()\n",
    "microondas.MostrarMicroondas()"
   ]
  },
  {
   "cell_type": "code",
   "execution_count": 13,
   "metadata": {},
   "outputs": [
    {
     "name": "stdout",
     "output_type": "stream",
     "text": [
      "#########\n",
      "Negocio:\n",
      "\tNombre: Time of Software\n",
      "\tDirección: Calle falsa 123\n",
      "\tTelefono: 36546454\n",
      "---------\n",
      "Hotel\n",
      "\tEstrellas 4\n",
      "\tNumero de habitaciones 255\n",
      "---------\n",
      "Restaurante\n",
      "\tTenedores 3\n",
      "\tHora apertura 8\n",
      "--------\n",
      "#########\n"
     ]
    }
   ],
   "source": [
    "class Hotel:\n",
    "    def __init__(self):\n",
    "        self.__NumeroHabitaciones = 0\n",
    "        self.__Estrellas = 0\n",
    "        \n",
    "    def SetNumeroHabitaciones(self,habs):\n",
    "        self.__NumeroHabitaciones = habs\n",
    "    def SetEstrellas(self,estrellas):\n",
    "        self.__Estrellas = estrellas\n",
    "    \n",
    "    def MostrarHotel(self):\n",
    "        print(\"---------\")\n",
    "        print(\"Hotel\")\n",
    "        print(\"\\tEstrellas\",self.__Estrellas)\n",
    "        print(\"\\tNumero de habitaciones\", self.__NumeroHabitaciones)\n",
    "\n",
    "class Restaurante():\n",
    "    def __init__(self):\n",
    "        self.__Tenedores = 0\n",
    "        self.__HoraApertura = 0\n",
    "    \n",
    "    def SetTenedore(self,tenedores):\n",
    "        self.__Tenedores = tenedores\n",
    "    def SetHoraApertura(self,hora):\n",
    "        self.__HoraApertura = hora\n",
    "    \n",
    "    def MostrarRestaurante(self):\n",
    "        print(\"---------\")\n",
    "        print(\"Restaurante\")\n",
    "        print(\"\\tTenedores\",self.__Tenedores)\n",
    "        print(\"\\tHora apertura\",self.__HoraApertura)\n",
    "        print(\"--------\")\n",
    "\n",
    "class Negocio(Hotel,Restaurante):\n",
    "    def __init__ (self):\n",
    "        self.__Nombre = \"\"\n",
    "        self.__Direccion = \"\"\n",
    "        self.__Telefono = 0\n",
    "    \n",
    "    def SetNombre(self,nombre):\n",
    "        self.__Nombre = nombre\n",
    "    def SetDireccion(self,direccion):\n",
    "        self.__Direccion = direccion\n",
    "    def SetTelefono (self,telefono):\n",
    "        self.__Telefono = telefono\n",
    "    \n",
    "    def MostrarNegocio(self):\n",
    "        print(\"#########\")\n",
    "        print(\"Negocio:\")\n",
    "        print(\"\\tNombre:\", self.__Nombre)\n",
    "        print(\"\\tDirección:\", self.__Direccion)\n",
    "        print(\"\\tTelefono:\",self.__Telefono)\n",
    "        self.MostrarHotel()\n",
    "        self.MostrarRestaurante()\n",
    "        print(\"#########\")\n",
    "\n",
    "negocio = Negocio()\n",
    "negocio.SetEstrellas(4)\n",
    "negocio.SetNumeroHabitaciones(255)\n",
    "negocio.SetTenedore(3)\n",
    "negocio.SetHoraApertura(8)\n",
    "negocio.SetNombre(\"Time of Software\")\n",
    "negocio.SetDireccion(\"Calle falsa 123\")\n",
    "negocio.SetTelefono(36546454)\n",
    "negocio.MostrarNegocio()"
   ]
  },
  {
   "cell_type": "code",
   "execution_count": 16,
   "metadata": {},
   "outputs": [
    {
     "name": "stdout",
     "output_type": "stream",
     "text": [
      "Time of software \n",
      "http://www.timeofsoftware.com\n",
      "Aprende python en un fin de semana\n",
      "Aprende python en un fin de semana\n",
      "\n"
     ]
    }
   ],
   "source": [
    "f = open(\"prueba.txt\",\"r\")\n",
    "texto = f.read()\n",
    "print(texto)\n",
    "f.close()"
   ]
  },
  {
   "cell_type": "code",
   "execution_count": 17,
   "metadata": {},
   "outputs": [
    {
     "name": "stdout",
     "output_type": "stream",
     "text": [
      "Time of software \n",
      "\n",
      "http://www.timeofsoftware.com\n",
      "\n",
      "Aprende python en un fin de semana\n",
      "\n",
      "Aprende python en un fin de semana\n",
      "\n"
     ]
    }
   ],
   "source": [
    "for linea in open(\"prueba.txt\",\"r\"):\n",
    "    print(linea)"
   ]
  },
  {
   "cell_type": "code",
   "execution_count": 18,
   "metadata": {},
   "outputs": [
    {
     "name": "stdout",
     "output_type": "stream",
     "text": [
      "Time of software \n",
      "\n",
      "http://www.timeofsoftware.com\n",
      "\n",
      "Aprende python en un fin de semana\n",
      "\n",
      "Aprende python en un fin de semana\n",
      "\n"
     ]
    }
   ],
   "source": [
    "f = open(\"prueba.txt\",\"r\")\n",
    "print(f.readline())\n",
    "print(f.readline())\n",
    "print(f.readline())\n",
    "print(f.readline())\n",
    "f.close()"
   ]
  },
  {
   "cell_type": "code",
   "execution_count": 20,
   "metadata": {},
   "outputs": [
    {
     "name": "stdout",
     "output_type": "stream",
     "text": [
      "Time of software \n",
      "\n",
      "http://www.timeofsoftware.com\n",
      "\n",
      "Aprende python en un fin de semana\n",
      "\n",
      "Aprende python en un fin de semana\n",
      "\n"
     ]
    }
   ],
   "source": [
    "f = open(\"prueba.txt\",\"r\")\n",
    "lineas = f.readlines()\n",
    "f.close()\n",
    "print(lineas[0])\n",
    "print(lineas[1])\n",
    "print(lineas[2])\n",
    "print(lineas[3])"
   ]
  },
  {
   "cell_type": "code",
   "execution_count": 21,
   "metadata": {},
   "outputs": [
    {
     "name": "stdout",
     "output_type": "stream",
     "text": [
      "Time of software \n",
      "\n",
      "http://www.timeofsoftware.com\n",
      "\n",
      "Aprende python en un fin de semana\n",
      "\n",
      "Aprende python en un fin de semana\n",
      "\n"
     ]
    }
   ],
   "source": [
    "f = open(\"prueba.txt\", \"r\")\n",
    "linea = list(f)\n",
    "f.close()\n",
    "\n",
    "for item in lineas:\n",
    "    print(item)"
   ]
  },
  {
   "cell_type": "code",
   "execution_count": 22,
   "metadata": {},
   "outputs": [
    {
     "name": "stdout",
     "output_type": "stream",
     "text": [
      "###Fichero original###\n",
      "Time of software \n",
      "http://www.timeofsoftware.com\n",
      "Aprende python en un fin de semana\n",
      "Aprende python en un fin de semana\n",
      "\n",
      "###Insertando linea###\n",
      "\n",
      "###Fichero modificado###\n",
      "Time of software \n",
      "http://www.timeofsoftware.com\n",
      "Aprende python en un fin de semana\n",
      "Aprende python en un fin de semana\n",
      "info.@timeofsotware.com\n",
      "\n"
     ]
    }
   ],
   "source": [
    "print(\"###Fichero original###\")\n",
    "flectura = open(\"prueba.txt\", \"r\")\n",
    "texto = flectura.read()\n",
    "flectura.close()\n",
    "print(texto)\n",
    "print(\"###Insertando linea###\\n\")\n",
    "fescritura = open(\"prueba.txt\", \"a\")\n",
    "fescritura.write(\"info.@timeofsotware.com\\n\")\n",
    "fescritura.close()\n",
    "print(\"###Fichero modificado###\")\n",
    "flectura = open(\"prueba.txt\",\"r\")\n",
    "texto = flectura.read()\n",
    "flectura.close()\n",
    "print(texto)"
   ]
  },
  {
   "cell_type": "code",
   "execution_count": 23,
   "metadata": {},
   "outputs": [
    {
     "name": "stdout",
     "output_type": "stream",
     "text": [
      "###Fichero creado###\n",
      "time of software\n",
      "Fichero creado 8-2-2\n",
      "\n"
     ]
    }
   ],
   "source": [
    "fcrear = open(\"pruebacreacion.txt\",\"x\")\n",
    "fcrear.write(\"time of software\\n\")\n",
    "fcrear.write(\"Fichero creado 8-2-2\\n\")\n",
    "fcrear.close()\n",
    "\n",
    "print(\"###Fichero creado###\")\n",
    "\n",
    "flectura = open(\"pruebacreacion.txt\",\"r\")\n",
    "texto = flectura.read()\n",
    "flectura.close()\n",
    "print(texto)"
   ]
  },
  {
   "cell_type": "code",
   "execution_count": 24,
   "metadata": {},
   "outputs": [
    {
     "name": "stdout",
     "output_type": "stream",
     "text": [
      "###Fichero creado ####\n",
      "Fichero creado desde cero\n",
      "Time of Software\n",
      "Fichero creado 8-2-3\n",
      "\n"
     ]
    }
   ],
   "source": [
    "fcrear = open(\"pruebacreacion.txt\",\"w\")\n",
    "fcrear.write(\"Fichero creado desde cero\\n\")\n",
    "fcrear.write(\"Time of Software\\n\")\n",
    "fcrear.write(\"Fichero creado 8-2-3\\n\")\n",
    "fcrear.close()\n",
    "\n",
    "print(\"###Fichero creado ####\")\n",
    "\n",
    "flectura = open(\"pruebacreacion.txt\", \"r\")\n",
    "texto = flectura.read()\n",
    "flectura.close()\n",
    "print(texto)"
   ]
  },
  {
   "cell_type": "code",
   "execution_count": null,
   "metadata": {},
   "outputs": [],
   "source": []
  },
  {
   "cell_type": "code",
   "execution_count": null,
   "metadata": {},
   "outputs": [],
   "source": []
  },
  {
   "cell_type": "code",
   "execution_count": null,
   "metadata": {},
   "outputs": [],
   "source": []
  },
  {
   "cell_type": "code",
   "execution_count": null,
   "metadata": {},
   "outputs": [],
   "source": []
  },
  {
   "cell_type": "code",
   "execution_count": null,
   "metadata": {},
   "outputs": [],
   "source": []
  },
  {
   "cell_type": "code",
   "execution_count": null,
   "metadata": {},
   "outputs": [],
   "source": []
  },
  {
   "cell_type": "code",
   "execution_count": null,
   "metadata": {},
   "outputs": [],
   "source": []
  },
  {
   "cell_type": "code",
   "execution_count": null,
   "metadata": {},
   "outputs": [],
   "source": []
  },
  {
   "cell_type": "code",
   "execution_count": null,
   "metadata": {},
   "outputs": [],
   "source": []
  },
  {
   "cell_type": "code",
   "execution_count": null,
   "metadata": {},
   "outputs": [],
   "source": []
  },
  {
   "cell_type": "code",
   "execution_count": null,
   "metadata": {},
   "outputs": [],
   "source": []
  },
  {
   "cell_type": "code",
   "execution_count": null,
   "metadata": {},
   "outputs": [],
   "source": []
  },
  {
   "cell_type": "code",
   "execution_count": null,
   "metadata": {},
   "outputs": [],
   "source": []
  },
  {
   "cell_type": "code",
   "execution_count": null,
   "metadata": {},
   "outputs": [],
   "source": []
  },
  {
   "cell_type": "code",
   "execution_count": null,
   "metadata": {},
   "outputs": [],
   "source": []
  },
  {
   "cell_type": "code",
   "execution_count": null,
   "metadata": {},
   "outputs": [],
   "source": []
  },
  {
   "cell_type": "code",
   "execution_count": null,
   "metadata": {},
   "outputs": [],
   "source": []
  },
  {
   "cell_type": "code",
   "execution_count": null,
   "metadata": {},
   "outputs": [],
   "source": []
  },
  {
   "cell_type": "code",
   "execution_count": null,
   "metadata": {},
   "outputs": [],
   "source": []
  },
  {
   "cell_type": "code",
   "execution_count": null,
   "metadata": {},
   "outputs": [],
   "source": []
  },
  {
   "cell_type": "code",
   "execution_count": null,
   "metadata": {},
   "outputs": [],
   "source": []
  },
  {
   "cell_type": "code",
   "execution_count": null,
   "metadata": {},
   "outputs": [],
   "source": []
  },
  {
   "cell_type": "code",
   "execution_count": null,
   "metadata": {},
   "outputs": [],
   "source": []
  },
  {
   "cell_type": "code",
   "execution_count": null,
   "metadata": {},
   "outputs": [],
   "source": []
  },
  {
   "cell_type": "code",
   "execution_count": null,
   "metadata": {},
   "outputs": [],
   "source": []
  },
  {
   "cell_type": "code",
   "execution_count": null,
   "metadata": {},
   "outputs": [],
   "source": []
  },
  {
   "cell_type": "code",
   "execution_count": null,
   "metadata": {},
   "outputs": [],
   "source": []
  },
  {
   "cell_type": "code",
   "execution_count": null,
   "metadata": {},
   "outputs": [],
   "source": []
  },
  {
   "cell_type": "code",
   "execution_count": null,
   "metadata": {},
   "outputs": [],
   "source": []
  },
  {
   "cell_type": "code",
   "execution_count": null,
   "metadata": {},
   "outputs": [],
   "source": []
  },
  {
   "cell_type": "code",
   "execution_count": null,
   "metadata": {},
   "outputs": [],
   "source": []
  },
  {
   "cell_type": "code",
   "execution_count": null,
   "metadata": {},
   "outputs": [],
   "source": []
  },
  {
   "cell_type": "code",
   "execution_count": null,
   "metadata": {},
   "outputs": [],
   "source": []
  },
  {
   "cell_type": "code",
   "execution_count": null,
   "metadata": {},
   "outputs": [],
   "source": []
  },
  {
   "cell_type": "code",
   "execution_count": null,
   "metadata": {},
   "outputs": [],
   "source": []
  },
  {
   "cell_type": "code",
   "execution_count": null,
   "metadata": {},
   "outputs": [],
   "source": []
  },
  {
   "cell_type": "code",
   "execution_count": null,
   "metadata": {},
   "outputs": [],
   "source": []
  },
  {
   "cell_type": "code",
   "execution_count": null,
   "metadata": {},
   "outputs": [],
   "source": []
  },
  {
   "cell_type": "code",
   "execution_count": null,
   "metadata": {},
   "outputs": [],
   "source": []
  },
  {
   "cell_type": "code",
   "execution_count": null,
   "metadata": {},
   "outputs": [],
   "source": []
  },
  {
   "cell_type": "code",
   "execution_count": null,
   "metadata": {},
   "outputs": [],
   "source": []
  },
  {
   "cell_type": "code",
   "execution_count": null,
   "metadata": {},
   "outputs": [],
   "source": []
  },
  {
   "cell_type": "code",
   "execution_count": null,
   "metadata": {},
   "outputs": [],
   "source": []
  },
  {
   "cell_type": "code",
   "execution_count": null,
   "metadata": {},
   "outputs": [],
   "source": []
  },
  {
   "cell_type": "code",
   "execution_count": null,
   "metadata": {},
   "outputs": [],
   "source": []
  },
  {
   "cell_type": "code",
   "execution_count": null,
   "metadata": {},
   "outputs": [],
   "source": []
  },
  {
   "cell_type": "code",
   "execution_count": null,
   "metadata": {},
   "outputs": [],
   "source": []
  },
  {
   "cell_type": "code",
   "execution_count": null,
   "metadata": {},
   "outputs": [],
   "source": []
  },
  {
   "cell_type": "code",
   "execution_count": null,
   "metadata": {},
   "outputs": [],
   "source": []
  },
  {
   "cell_type": "code",
   "execution_count": null,
   "metadata": {},
   "outputs": [],
   "source": []
  },
  {
   "cell_type": "code",
   "execution_count": null,
   "metadata": {},
   "outputs": [],
   "source": []
  },
  {
   "cell_type": "code",
   "execution_count": null,
   "metadata": {},
   "outputs": [],
   "source": []
  },
  {
   "cell_type": "code",
   "execution_count": null,
   "metadata": {},
   "outputs": [],
   "source": []
  },
  {
   "cell_type": "code",
   "execution_count": null,
   "metadata": {},
   "outputs": [],
   "source": []
  },
  {
   "cell_type": "code",
   "execution_count": null,
   "metadata": {},
   "outputs": [],
   "source": []
  },
  {
   "cell_type": "code",
   "execution_count": null,
   "metadata": {},
   "outputs": [],
   "source": []
  },
  {
   "cell_type": "code",
   "execution_count": null,
   "metadata": {},
   "outputs": [],
   "source": []
  },
  {
   "cell_type": "code",
   "execution_count": null,
   "metadata": {},
   "outputs": [],
   "source": []
  },
  {
   "cell_type": "code",
   "execution_count": null,
   "metadata": {},
   "outputs": [],
   "source": []
  },
  {
   "cell_type": "code",
   "execution_count": null,
   "metadata": {},
   "outputs": [],
   "source": []
  },
  {
   "cell_type": "code",
   "execution_count": null,
   "metadata": {},
   "outputs": [],
   "source": []
  },
  {
   "cell_type": "code",
   "execution_count": null,
   "metadata": {},
   "outputs": [],
   "source": []
  },
  {
   "cell_type": "code",
   "execution_count": null,
   "metadata": {},
   "outputs": [],
   "source": []
  },
  {
   "cell_type": "code",
   "execution_count": null,
   "metadata": {},
   "outputs": [],
   "source": []
  },
  {
   "cell_type": "code",
   "execution_count": null,
   "metadata": {},
   "outputs": [],
   "source": []
  },
  {
   "cell_type": "code",
   "execution_count": null,
   "metadata": {},
   "outputs": [],
   "source": []
  },
  {
   "cell_type": "code",
   "execution_count": null,
   "metadata": {},
   "outputs": [],
   "source": []
  },
  {
   "cell_type": "code",
   "execution_count": null,
   "metadata": {},
   "outputs": [],
   "source": []
  },
  {
   "cell_type": "code",
   "execution_count": null,
   "metadata": {},
   "outputs": [],
   "source": []
  },
  {
   "cell_type": "code",
   "execution_count": null,
   "metadata": {},
   "outputs": [],
   "source": []
  },
  {
   "cell_type": "code",
   "execution_count": null,
   "metadata": {},
   "outputs": [],
   "source": []
  },
  {
   "cell_type": "code",
   "execution_count": null,
   "metadata": {},
   "outputs": [],
   "source": []
  },
  {
   "cell_type": "code",
   "execution_count": null,
   "metadata": {},
   "outputs": [],
   "source": []
  },
  {
   "cell_type": "code",
   "execution_count": null,
   "metadata": {},
   "outputs": [],
   "source": []
  },
  {
   "cell_type": "code",
   "execution_count": null,
   "metadata": {},
   "outputs": [],
   "source": []
  },
  {
   "cell_type": "code",
   "execution_count": null,
   "metadata": {},
   "outputs": [],
   "source": []
  },
  {
   "cell_type": "code",
   "execution_count": null,
   "metadata": {},
   "outputs": [],
   "source": []
  },
  {
   "cell_type": "code",
   "execution_count": null,
   "metadata": {},
   "outputs": [],
   "source": []
  },
  {
   "cell_type": "code",
   "execution_count": null,
   "metadata": {},
   "outputs": [],
   "source": []
  },
  {
   "cell_type": "code",
   "execution_count": null,
   "metadata": {},
   "outputs": [],
   "source": []
  },
  {
   "cell_type": "code",
   "execution_count": null,
   "metadata": {},
   "outputs": [],
   "source": []
  },
  {
   "cell_type": "code",
   "execution_count": null,
   "metadata": {},
   "outputs": [],
   "source": []
  },
  {
   "cell_type": "code",
   "execution_count": null,
   "metadata": {},
   "outputs": [],
   "source": []
  },
  {
   "cell_type": "code",
   "execution_count": null,
   "metadata": {},
   "outputs": [],
   "source": []
  },
  {
   "cell_type": "code",
   "execution_count": null,
   "metadata": {},
   "outputs": [],
   "source": []
  },
  {
   "cell_type": "code",
   "execution_count": null,
   "metadata": {},
   "outputs": [],
   "source": []
  },
  {
   "cell_type": "code",
   "execution_count": null,
   "metadata": {},
   "outputs": [],
   "source": []
  },
  {
   "cell_type": "code",
   "execution_count": null,
   "metadata": {},
   "outputs": [],
   "source": []
  },
  {
   "cell_type": "code",
   "execution_count": null,
   "metadata": {},
   "outputs": [],
   "source": []
  },
  {
   "cell_type": "code",
   "execution_count": null,
   "metadata": {},
   "outputs": [],
   "source": []
  }
 ],
 "metadata": {
  "kernelspec": {
   "display_name": "Python 3",
   "language": "python",
   "name": "python3"
  },
  "language_info": {
   "codemirror_mode": {
    "name": "ipython",
    "version": 3
   },
   "file_extension": ".py",
   "mimetype": "text/x-python",
   "name": "python",
   "nbconvert_exporter": "python",
   "pygments_lexer": "ipython3",
   "version": "3.6.12"
  }
 },
 "nbformat": 4,
 "nbformat_minor": 4
}
